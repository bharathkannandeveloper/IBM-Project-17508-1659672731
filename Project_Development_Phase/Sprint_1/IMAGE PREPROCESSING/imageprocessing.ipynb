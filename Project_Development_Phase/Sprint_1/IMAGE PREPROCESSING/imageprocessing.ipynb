{
 "cells": [
  {
   "cell_type": "code",
   "execution_count": 3,
   "id": "c5de0aae",
   "metadata": {},
   "outputs": [],
   "source": [
    "from keras.preprocessing.image import ImageDataGenerator"
   ]
  },
  {
   "cell_type": "code",
   "execution_count": 4,
   "id": "7cb612f6",
   "metadata": {},
   "outputs": [],
   "source": [
    "train_datagen = ImageDataGenerator (rescale = 1./255, shear_range= 0.2,zoom_range= 0.2, horizontal_flip = True)"
   ]
  },
  {
   "cell_type": "code",
   "execution_count": 5,
   "id": "8af434e2",
   "metadata": {},
   "outputs": [],
   "source": [
    "test_datagen =ImageDataGenerator (rescale = 1)"
   ]
  },
  {
   "cell_type": "code",
   "execution_count": 8,
   "id": "624e58e2",
   "metadata": {},
   "outputs": [
    {
     "name": "stdout",
     "output_type": "stream",
     "text": [
      "Found 1686 images belonging to 6 classes.\n",
      "Found 5384 images belonging to 6 classes.\n"
     ]
    }
   ],
   "source": [
    "x_train = train_datagen.flow_from_directory(r'C:\\Users\\maris_q3mm6nk\\Desktop\\FILES\\data_for_ibm\\Fertilizers_Recommendation_ System_For_Disease_ Prediction\\Dataset Plant Disease\\fruit-dataset\\fruit-dataset\\test',target_size = (128,128), batch_size = 32, class_mode = 'categorical')\n",
    "x_test = test_datagen.flow_from_directory(r'C:\\Users\\maris_q3mm6nk\\Desktop\\FILES\\data_for_ibm\\Fertilizers_Recommendation_ System_For_Disease_ Prediction\\Dataset Plant Disease\\fruit-dataset\\fruit-dataset\\train',target_size = (128,128), batch_size = 32, class_mode = 'categorical')"
   ]
  },
  {
   "cell_type": "code",
   "execution_count": 9,
   "id": "aecb50e7",
   "metadata": {},
   "outputs": [
    {
     "name": "stdout",
     "output_type": "stream",
     "text": [
      "Found 3416 images belonging to 9 classes.\n",
      "Found 3416 images belonging to 9 classes.\n"
     ]
    }
   ],
   "source": [
    "x_train = train_datagen.flow_from_directory(r'C:\\Users\\maris_q3mm6nk\\Desktop\\FILES\\data_for_ibm\\Fertilizers_Recommendation_ System_For_Disease_ Prediction\\Dataset Plant Disease\\Veg-dataset\\Veg-dataset\\test_set',target_size = (128,128), batch_size = 32, class_mode = 'categorical')\n",
    "x_test = test_datagen.flow_from_directory(r'C:\\Users\\maris_q3mm6nk\\Desktop\\FILES\\data_for_ibm\\Fertilizers_Recommendation_ System_For_Disease_ Prediction\\Dataset Plant Disease\\Veg-dataset\\Veg-dataset\\test_set',target_size = (128,128), batch_size = 32, class_mode = 'categorical')"
   ]
  },
  {
   "cell_type": "code",
   "execution_count": null,
   "id": "c71eefd8",
   "metadata": {},
   "outputs": [],
   "source": []
  }
 ],
 "metadata": {
  "kernelspec": {
   "display_name": "Python 3 (ipykernel)",
   "language": "python",
   "name": "python3"
  },
  "language_info": {
   "codemirror_mode": {
    "name": "ipython",
    "version": 3
   },
   "file_extension": ".py",
   "mimetype": "text/x-python",
   "name": "python",
   "nbconvert_exporter": "python",
   "pygments_lexer": "ipython3",
   "version": "3.10.8"
  }
 },
 "nbformat": 4,
 "nbformat_minor": 5
}